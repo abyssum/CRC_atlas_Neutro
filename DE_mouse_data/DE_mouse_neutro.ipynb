{
 "cells": [
  {
   "cell_type": "code",
   "execution_count": null,
   "id": "48c5f82d-b3fc-41a9-963c-2a4a5db8bcdb",
   "metadata": {},
   "outputs": [],
   "source": [
    "# The conda env used in this notebook is a customised \"crc-atlas env.: contains scanpy_helper_submodule from the LUCAS project\n",
    "import os\n",
    "\n",
    "import decoupler as dc\n",
    "import numpy as np\n",
    "import pandas as pd\n",
    "import sc_atlas_helpers as ah\n",
    "import scanpy as sc\n",
    "from matplotlib.pyplot import rc_context\n",
    "from scanpy_helper_submodule import scanpy_helpers as sh\n",
    "\n",
    "# Figure default parameters\n",
    "sc.settings.set_figure_params(\n",
    "    dpi=400,\n",
    "    facecolor=\"white\",\n",
    "    frameon=False,\n",
    ")\n",
    "\n",
    "# Set the number of max CPUs to be used by the processes\n",
    "from threadpoolctl import threadpool_limits\n",
    "\n",
    "cpus = 4\n",
    "threadpool_limits(cpus)"
   ]
  },
  {
   "cell_type": "markdown",
   "id": "35f4c7ef-9cd9-4e46-a09a-255adadd12a4",
   "metadata": {},
   "source": [
    "## 1. Neutrophil cluster annotation - Arnold lab: Mouse data"
   ]
  },
  {
   "cell_type": "code",
   "execution_count": null,
   "id": "5ee20349-db84-4059-a3fb-1742e1b931eb",
   "metadata": {},
   "outputs": [],
   "source": [
    "# Load in the data\n",
    "# This H5AD file was processed and provided by Kristina\n",
    "adata = sc.read_h5ad(\n",
    "    \"/data/projects/2022/CRCA/data/own_datasets/arnold_lab_mouse/tumor_bm_blood_neutrophils.h5ad\"\n",
    ")"
   ]
  },
  {
   "cell_type": "markdown",
   "id": "b217f8a3-45a5-44da-825a-872fe57f1468",
   "metadata": {},
   "source": [
    "### 1.1 Sanity check"
   ]
  },
  {
   "cell_type": "code",
   "execution_count": null,
   "id": "537805ef-7113-4a9c-94ac-7b295001d073",
   "metadata": {},
   "outputs": [],
   "source": [
    "# Check the metadata (obs, var, etc.)\n",
    "adata"
   ]
  },
  {
   "cell_type": "code",
   "execution_count": null,
   "id": "c63b8868-db6b-4a44-bdf7-0c1e4e8bacb8",
   "metadata": {},
   "outputs": [],
   "source": [
    "# Plot the clustering results\n",
    "sc.pl.umap(\n",
    "    adata,\n",
    "    color=[\"seurat_clusters\", \"phenotype\", \"tissue\"],\n",
    "    layer=\"log1p_norm\",\n",
    "    vmin=0,\n",
    "    vmax=\"p99\",\n",
    "    sort_order=False,\n",
    "    frameon=False,\n",
    "    add_outline=True,\n",
    "    # legend_loc=\"on data\"\n",
    "    # save=\"_all_neutro.png\",\n",
    ")"
   ]
  },
  {
   "cell_type": "markdown",
   "id": "a63276ac-0c41-48a0-804e-197b974932cd",
   "metadata": {},
   "source": [
    "### 1.1 Feature engineering \n",
    "Create subsets for blood/bone marrow, to be used for healthy/tumor DE analysis"
   ]
  },
  {
   "cell_type": "code",
   "execution_count": null,
   "id": "625539de-73bd-44a1-917b-62dc5324ca5e",
   "metadata": {},
   "outputs": [],
   "source": [
    "1. Create the Bone Marrow groups (\"BM_phenotype\") - healthy_BM and tumor_BM"
   ]
  },
  {
   "cell_type": "code",
   "execution_count": null,
   "id": "8e187863-61b0-40e1-a6d6-afc774f10ed2",
   "metadata": {},
   "outputs": [],
   "source": [
    "# Subset for BM\n",
    "adata_bm = adata[adata.obs[\"tissue\"] == \"BM\"].copy()"
   ]
  },
  {
   "cell_type": "code",
   "execution_count": null,
   "id": "ed90fa65-0f15-4ed0-98f7-98473eebd1ba",
   "metadata": {},
   "outputs": [],
   "source": [
    "# Check value counts\n",
    "adata_bm.obs[[\"tissue\",\"phenotype\"]].value_counts()"
   ]
  },
  {
   "cell_type": "code",
   "execution_count": null,
   "id": "01592e5a-9e22-4dd8-bdc7-98aa8d89e542",
   "metadata": {},
   "outputs": [],
   "source": [
    "# Plot the BM clusters\n",
    "sc.pl.umap(\n",
    "    adata_bm,\n",
    "    color=[\"phenotype\", \"tissue\"],\n",
    "    layer=\"log1p_norm\",\n",
    "    vmin=0,\n",
    "    vmax=\"p99\",\n",
    "    sort_order=False,\n",
    "    frameon=False,\n",
    "    add_outline=True,\n",
    "    # legend_loc=\"on data\"\n",
    "    # save=\"_all_neutro.png\",\n",
    ")"
   ]
  },
  {
   "cell_type": "code",
   "execution_count": null,
   "id": "e0d7ee35-1e8b-44e4-bcd1-b966a40aa07a",
   "metadata": {},
   "outputs": [],
   "source": []
  },
  {
   "cell_type": "code",
   "execution_count": null,
   "id": "3e68e09c-8679-4a0f-aab6-b85d40f693da",
   "metadata": {},
   "outputs": [],
   "source": []
  }
 ],
 "metadata": {
  "kernelspec": {
   "display_name": "crc_atlas",
   "language": "python",
   "name": "crc_atlas"
  },
  "language_info": {
   "codemirror_mode": {
    "name": "ipython",
    "version": 3
   },
   "file_extension": ".py",
   "mimetype": "text/x-python",
   "name": "python",
   "nbconvert_exporter": "python",
   "pygments_lexer": "ipython3",
   "version": "3.11.5"
  }
 },
 "nbformat": 4,
 "nbformat_minor": 5
}
