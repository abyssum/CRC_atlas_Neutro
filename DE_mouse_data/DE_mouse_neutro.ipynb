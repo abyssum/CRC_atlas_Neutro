{
 "cells": [
  {
   "cell_type": "code",
   "execution_count": null,
   "id": "48c5f82d-b3fc-41a9-963c-2a4a5db8bcdb",
   "metadata": {},
   "outputs": [],
   "source": [
    "# The conda env used in this notebook is a customised \"crc-atlas env.: contains scanpy_helper_submodule from the LUCAS project\n",
    "import os\n",
    "\n",
    "import decoupler as dc\n",
    "import numpy as np\n",
    "import pandas as pd\n",
    "import sc_atlas_helpers as ah\n",
    "import scanpy as sc\n",
    "from matplotlib.pyplot import rc_context\n",
    "from scanpy_helper_submodule import scanpy_helpers as sh\n",
    "\n",
    "# Figure default parameters\n",
    "sc.settings.set_figure_params(\n",
    "    dpi=400,\n",
    "    facecolor=\"white\",\n",
    "    frameon=False,\n",
    ")\n",
    "\n",
    "# Set the number of max CPUs to be used by the processes\n",
    "from threadpoolctl import threadpool_limits\n",
    "\n",
    "cpus = 4\n",
    "threadpool_limits(cpus)"
   ]
  }
 ],
 "metadata": {
  "kernelspec": {
   "display_name": "crc_atlas",
   "language": "python",
   "name": "crc_atlas"
  },
  "language_info": {
   "codemirror_mode": {
    "name": "ipython",
    "version": 3
   },
   "file_extension": ".py",
   "mimetype": "text/x-python",
   "name": "python",
   "nbconvert_exporter": "python",
   "pygments_lexer": "ipython3",
   "version": "3.11.5"
  }
 },
 "nbformat": 4,
 "nbformat_minor": 5
}
