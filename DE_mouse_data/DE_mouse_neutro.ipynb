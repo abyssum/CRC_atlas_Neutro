{
 "cells": [
  {
   "cell_type": "code",
   "execution_count": null,
   "id": "48c5f82d-b3fc-41a9-963c-2a4a5db8bcdb",
   "metadata": {},
   "outputs": [],
   "source": [
    "# The conda env used in this notebook is a customised \"crc-atlas env.: contains scanpy_helper_submodule from the LUCAS project\n",
    "import os\n",
    "\n",
    "import decoupler as dc\n",
    "import numpy as np\n",
    "import pandas as pd\n",
    "import sc_atlas_helpers as ah\n",
    "import scanpy as sc\n",
    "from matplotlib.pyplot import rc_context\n",
    "from scanpy_helper_submodule import scanpy_helpers as sh\n",
    "\n",
    "# Figure default parameters\n",
    "sc.settings.set_figure_params(\n",
    "    dpi=400,\n",
    "    facecolor=\"white\",\n",
    "    frameon=False,\n",
    ")\n",
    "\n",
    "# Set the number of max CPUs to be used by the processes\n",
    "from threadpoolctl import threadpool_limits\n",
    "\n",
    "cpus = 4\n",
    "threadpool_limits(cpus)"
   ]
  },
  {
   "cell_type": "code",
   "execution_count": null,
   "id": "c1e9bed3-e2d2-4b26-80c9-c22171362f5f",
   "metadata": {},
   "outputs": [],
   "source": [
    "## 1. Neutrophil cluster annotation - Arnold lab: Mouse data"
   ]
  },
  {
   "cell_type": "code",
   "execution_count": null,
   "id": "5ee20349-db84-4059-a3fb-1742e1b931eb",
   "metadata": {},
   "outputs": [],
   "source": [
    "# Load in the data\n",
    "# This H5AD file was processed and provided by Kristina\n",
    "adata = sc.read_h5ad(\n",
    "    \"/data/projects/2022/CRCA/data/own_datasets/arnold_lab_mouse/tumor_bm_blood_neutrophils.h5ad\"\n",
    ")"
   ]
  },
  {
   "cell_type": "code",
   "execution_count": null,
   "id": "be30a912-4ad2-4a76-b2df-d0b23826649c",
   "metadata": {},
   "outputs": [],
   "source": [
    "### 1.1 Sanity check"
   ]
  },
  {
   "cell_type": "code",
   "execution_count": null,
   "id": "537805ef-7113-4a9c-94ac-7b295001d073",
   "metadata": {},
   "outputs": [],
   "source": [
    "# Check the metadata (obs, var, etc.)\n",
    "adata"
   ]
  },
  {
   "cell_type": "code",
   "execution_count": null,
   "id": "c63b8868-db6b-4a44-bdf7-0c1e4e8bacb8",
   "metadata": {},
   "outputs": [],
   "source": [
    "# Plot the clustering results\n",
    "sc.pl.umap(\n",
    "    adata,\n",
    "    color=[\"seurat_clusters\", \"phenotype\", \"tissue\"],\n",
    "    layer=\"log1p_norm\",\n",
    "    vmin=0,\n",
    "    vmax=\"p99\",\n",
    "    sort_order=False,\n",
    "    frameon=False,\n",
    "    add_outline=True,\n",
    "    # legend_loc=\"on data\"\n",
    "    # save=\"_all_neutro.png\",\n",
    ")"
   ]
  },
  {
   "cell_type": "code",
   "execution_count": null,
   "id": "9a1126eb-08d3-46f5-8920-69e4c79da824",
   "metadata": {},
   "outputs": [],
   "source": []
  }
 ],
 "metadata": {
  "kernelspec": {
   "display_name": "crc_atlas",
   "language": "python",
   "name": "crc_atlas"
  },
  "language_info": {
   "codemirror_mode": {
    "name": "ipython",
    "version": 3
   },
   "file_extension": ".py",
   "mimetype": "text/x-python",
   "name": "python",
   "nbconvert_exporter": "python",
   "pygments_lexer": "ipython3",
   "version": "3.11.5"
  }
 },
 "nbformat": 4,
 "nbformat_minor": 5
}
