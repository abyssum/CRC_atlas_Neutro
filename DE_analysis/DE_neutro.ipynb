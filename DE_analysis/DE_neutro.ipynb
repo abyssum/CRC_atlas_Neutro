{
 "cells": [
  {
   "cell_type": "code",
   "execution_count": null,
   "id": "fbb109d9-5cb4-420f-a040-42b098a528b7",
   "metadata": {},
   "outputs": [],
   "source": [
    "# The conda env used in this notebook is a customised \"crc-atlas env.: contains scanpy_helper_submodule from the LUCAS project\n",
    "import os\n",
    "\n",
    "import decoupler as dc\n",
    "import numpy as np\n",
    "import pandas as pd\n",
    "import sc_atlas_helpers as ah\n",
    "import scanpy as sc\n",
    "from matplotlib.pyplot import rc_context\n",
    "from scanpy_helper_submodule import scanpy_helpers as sh\n",
    "\n",
    "# Figure default parameters\n",
    "sc.settings.set_figure_params(\n",
    "    dpi=400,\n",
    "    facecolor=\"white\",\n",
    "    frameon=False,\n",
    ")\n",
    "\n",
    "# Set the number of max CPUs to be used by the processes\n",
    "from threadpoolctl import threadpool_limits\n",
    "\n",
    "cpus = 4\n",
    "threadpool_limits(cpus)"
   ]
  },
  {
   "cell_type": "markdown",
   "id": "b1624cc0-b955-4ada-951f-a69e27cfed8b",
   "metadata": {},
   "source": [
    "### 1. Neutrophil cluster annotation - MUI dataset only (exluding AbSeq and Zurich data)"
   ]
  },
  {
   "cell_type": "code",
   "execution_count": null,
   "id": "42ac282a-4c9e-4a6d-bed1-0561cd504eae",
   "metadata": {},
   "outputs": [],
   "source": [
    "# This h5ad was produced by Valentin after integrating the datasets with var. genes = 100\n",
    "adata = sc.read_h5ad(\n",
    "    \"/data/projects/2022/CRCA/results/v1/artifacts/build_atlas/load_datasets/MUI_Innsbruck_neutro_hvg100.h5ad\"\n",
    ")"
   ]
  },
  {
   "cell_type": "code",
   "execution_count": null,
   "id": "c927c6a6-d649-4532-b251-387e14799314",
   "metadata": {},
   "outputs": [],
   "source": [
    "# Show counts for sanity check (there are artifacts in the object - need to be filtered out: see below)\n",
    "adata.obs.cell_type_coarse.value_counts()"
   ]
  },
  {
   "cell_type": "code",
   "execution_count": null,
   "id": "e381b0d2-765a-41c6-8ee5-98c3f4c3935d",
   "metadata": {},
   "outputs": [],
   "source": [
    "# Plot the UMAP plot to check initial clusters\n",
    "# sc.set_figure_params(figsize=(6, 6), dpi=300)\n",
    "sc.pl.umap(\n",
    "    adata,\n",
    "    color=[\"leiden_1.00\", \"patient_id\", \"sample_type\"],\n",
    "    layer=\"log1p_norm\",\n",
    "    vmin=0,\n",
    "    vmax=\"p99\",\n",
    "    sort_order=False,\n",
    "    frameon=False,\n",
    "    add_outline=True,\n",
    "    # legend_loc=\"on data\"\n",
    "    save=\"_all_neutro.png\",\n",
    ")"
   ]
  },
  {
   "cell_type": "markdown",
   "id": "5fbba2dd-4cd2-4cd6-97db-00df60d8f600",
   "metadata": {},
   "source": [
    "### 1.1 Subset and clean-up"
   ]
  },
  {
   "cell_type": "code",
   "execution_count": null,
   "id": "b4e2345d-c655-4c09-a5e4-89aa6aab238d",
   "metadata": {},
   "outputs": [],
   "source": [
    "# Subset for Neutrophil cells only\n",
    "adata_neutro_mui = adata[adata.obs[\"cell_type_coarse\"].isin([\"Neutrophil\"])]"
   ]
  },
  {
   "cell_type": "code",
   "execution_count": null,
   "id": "bcaa122d-2968-412f-8a28-ea9caf503d1d",
   "metadata": {},
   "outputs": [],
   "source": [
    "# Keep only blood-tumor (for the DE analysis)\n",
    "adata_neutro_mui = adata_neutro_mui[\n",
    "    adata_neutro_mui.obs[\"sample_type\"].isin([\"blood\", \"tumor\"])\n",
    "]\n",
    "# Keep only the MUI dataset (exclude AbSeq and Zurich datasets)\n",
    "adata_neutro_mui = adata_neutro_mui[\n",
    "    adata_neutro_mui.obs[\"dataset\"].isin([\"MUI_Innsbruck\"])\n",
    "]"
   ]
  },
  {
   "cell_type": "code",
   "execution_count": null,
   "id": "81e7d1a6-b503-4a52-a125-6d9a185a07dc",
   "metadata": {},
   "outputs": [],
   "source": [
    "# Re-process the subsetted dataset\n",
    "ah.pp.reprocess_adata_subset_scvi(adata_neutro_mui, leiden_res=1.5, n_neighbors=12)"
   ]
  },
  {
   "cell_type": "code",
   "execution_count": null,
   "id": "09f8a3b4-1212-40ed-afc0-6fa7d609dfd5",
   "metadata": {},
   "outputs": [],
   "source": [
    "# Plot the re-processed dataset\n",
    "# Note: The default figure params are changed here (I find these params produce more \"readable\" plots)\n",
    "# Feel free to change\n",
    "sc.set_figure_params(figsize=(6, 6), dpi=400)\n",
    "\n",
    "# The actual plotting function\n",
    "sc.pl.umap(\n",
    "    adata_neutro_mui,\n",
    "    color=[\"leiden\", \"sample_type\"],\n",
    "    layer=\"log1p_norm\",\n",
    "    vmin=0,\n",
    "    vmax=\"p99\",\n",
    "    sort_order=False,\n",
    "    frameon=False,\n",
    "    add_outline=True,\n",
    "    # legend_loc='on data',\n",
    "    save=\"_MUI_only_neutro.png\",\n",
    ")"
   ]
  },
  {
   "cell_type": "code",
   "execution_count": null,
   "id": "e9018f71-8aa3-46c1-a94d-5168450e0338",
   "metadata": {},
   "outputs": [],
   "source": [
    "# Plot the QC metrics\n",
    "ah.pl.umap_qc_metrics(\n",
    "    adata_neutro_mui,\n",
    "    vmax_total_counts=10000,\n",
    "    vmax_n_genes_by_counts=5000,\n",
    "    save_dir=\"./figures/\",\n",
    "    prefix=\"MUI_only_neutro_qc.png\",\n",
    ")"
   ]
  },
  {
   "cell_type": "markdown",
   "id": "1007de1f-5af1-4df3-8df9-3f2e232ceef5",
   "metadata": {},
   "source": [
    "### 1.2 Subset the Tumor samples (in order to re-process and annoate)"
   ]
  },
  {
   "cell_type": "code",
   "execution_count": null,
   "id": "f573fb99-2546-43b3-87a7-7ee33680dff6",
   "metadata": {},
   "outputs": [],
   "source": [
    "# Subset for tunor\n",
    "adata_neutro_mui_tumor = adata_neutro_mui[\n",
    "    adata_neutro_mui.obs[\"sample_type\"].isin([\"tumor\"])\n",
    "]"
   ]
  },
  {
   "cell_type": "code",
   "execution_count": null,
   "id": "b92a3910-ace2-4d9f-8e98-eba88ada937a",
   "metadata": {},
   "outputs": [],
   "source": [
    "# Re-process\n",
    "ah.pp.reprocess_adata_subset_scvi(adata_neutro_mui_tumor, leiden_res=0.3, n_neighbors=6)"
   ]
  },
  {
   "cell_type": "code",
   "execution_count": null,
   "id": "6eef87bc-ac04-4fcf-8aae-e204ae5ebd25",
   "metadata": {},
   "outputs": [],
   "source": [
    "# Plot the leiden clusters\n",
    "sc.pl.umap(\n",
    "    adata_neutro_mui_tumor,\n",
    "    color=[\"leiden\"],\n",
    "    layer=\"log1p_norm\",\n",
    "    vmin=0,\n",
    "    vmax=\"p99\",\n",
    "    sort_order=False,\n",
    "    frameon=False,\n",
    "    cmap=\"Reds\",\n",
    "    add_outline=True,\n",
    "    # legend_loc='on data',\n",
    "    # save=\"_MUI_only_neutro_markers_2.png\"\n",
    ")"
   ]
  },
  {
   "cell_type": "code",
   "execution_count": null,
   "id": "fc43b57b-a9ba-4cdf-bc11-512348f3e003",
   "metadata": {},
   "outputs": [],
   "source": [
    "# Rename the \"cell_type_coarse\" obs with the Tumor Ascossiated Neutrophil clusters (TAN)\n",
    "cluster_annot = {\n",
    "    \"TAN1\": [0],\n",
    "    \"TAN2\": [1],\n",
    "    \"TAN3\": [2, 3, 4],\n",
    "}\n",
    "cluster_annot = {str(vi): k for k, v in cluster_annot.items() for vi in v}\n",
    "\n",
    "adata_neutro_mui_tumor.obs[\"cell_type_coarse\"] = adata_neutro_mui_tumor.obs[\n",
    "    \"leiden\"\n",
    "].map(cluster_annot)"
   ]
  },
  {
   "cell_type": "code",
   "execution_count": null,
   "id": "71a4a347-0774-4fc4-b48d-718c736d4918",
   "metadata": {},
   "outputs": [],
   "source": [
    "# Plot the new TAN clusters\n",
    "sc.pl.umap(\n",
    "    adata_neutro_mui_tumor,\n",
    "    color=[\"cell_type_coarse\"],\n",
    "    layer=\"log1p_norm\",\n",
    "    vmin=0,\n",
    "    vmax=\"p99\",\n",
    "    sort_order=False,\n",
    "    frameon=False,\n",
    "    cmap=\"Reds\",\n",
    "    add_outline=True,\n",
    "    legend_loc=\"on data\",\n",
    "    # save=\"_MUI_only_neutro_markers_2.png\"\n",
    ")"
   ]
  },
  {
   "cell_type": "code",
   "execution_count": null,
   "id": "7abdf75f-e9c6-4257-8370-b67a5d9bc298",
   "metadata": {},
   "outputs": [],
   "source": [
    "# Integrate the new TAN clusters to the initial adata obj.\n",
    "ah.pp.integrate_back(\n",
    "    adata_neutro_mui, adata_neutro_mui_tumor, variable=\"cell_type_coarse\"\n",
    ")"
   ]
  },
  {
   "cell_type": "code",
   "execution_count": null,
   "id": "daa41b10-41e3-48f9-8a02-5fa52e7eac4a",
   "metadata": {},
   "outputs": [],
   "source": []
  },
  {
   "cell_type": "markdown",
   "id": "7afdd324-8398-47fa-9dc8-068aeba52c87",
   "metadata": {},
   "source": [
    "### 1.3 Subset the Blood samples (in order to re-process and annoate)"
   ]
  },
  {
   "cell_type": "code",
   "execution_count": null,
   "id": "772e89e2-cc78-40b2-aa1b-73c828e3d3ce",
   "metadata": {},
   "outputs": [],
   "source": [
    "# Subset for blood\n",
    "adata_neutro_mui_blood = adata_neutro_mui[\n",
    "    adata_neutro_mui.obs[\"sample_type\"].isin([\"blood\"])\n",
    "]"
   ]
  },
  {
   "cell_type": "code",
   "execution_count": null,
   "id": "c8888d4f-3113-45cf-92ed-a00bbd582e43",
   "metadata": {},
   "outputs": [],
   "source": [
    "# Re-process\n",
    "ah.pp.reprocess_adata_subset_scvi(adata_neutro_mui_blood, leiden_res=0.3, n_neighbors=8)"
   ]
  },
  {
   "cell_type": "code",
   "execution_count": null,
   "id": "9fc095a8-9a5c-4bc3-a92f-eb1ab44ec49f",
   "metadata": {},
   "outputs": [],
   "source": [
    "# Plot the leiden clusters\n",
    "sc.pl.umap(\n",
    "    adata_neutro_mui_blood,\n",
    "    color=[\"leiden\"],\n",
    "    layer=\"log1p_norm\",\n",
    "    vmin=0,\n",
    "    vmax=\"p99\",\n",
    "    sort_order=False,\n",
    "    frameon=False,\n",
    "    cmap=\"Reds\",\n",
    "    add_outline=True,\n",
    "    legend_loc=\"on data\",\n",
    "    # save=\"_MUI_only_neutro_markers_2.png\"\n",
    ")"
   ]
  },
  {
   "cell_type": "code",
   "execution_count": null,
   "id": "70327a74-f0ca-4d08-a4ac-b57612872f90",
   "metadata": {},
   "outputs": [],
   "source": [
    "# Rename the \"cell_type_coarse\" obs with the Blood Neutrophil clusters (BN)\n",
    "cluster_annot = {\n",
    "    \"BN1\": [2],\n",
    "    \"BN2\": [1],\n",
    "    \"BN3\": [3],\n",
    "    \"BN4\": [0, 4],\n",
    "}\n",
    "cluster_annot = {str(vi): k for k, v in cluster_annot.items() for vi in v}\n",
    "\n",
    "adata_neutro_mui_blood.obs[\"cell_type_coarse\"] = adata_neutro_mui_blood.obs[\n",
    "    \"leiden\"\n",
    "].map(cluster_annot)"
   ]
  },
  {
   "cell_type": "code",
   "execution_count": null,
   "id": "7398b749-4815-4dc8-87a1-76c2427ffd96",
   "metadata": {},
   "outputs": [],
   "source": [
    "# Plot the new BN clusters\n",
    "sc.pl.umap(\n",
    "    adata_neutro_mui_blood,\n",
    "    color=[\"cell_type_coarse\"],\n",
    "    layer=\"log1p_norm\",\n",
    "    vmin=0,\n",
    "    vmax=\"p99\",\n",
    "    sort_order=False,\n",
    "    frameon=False,\n",
    "    cmap=\"Reds\",\n",
    "    add_outline=True,\n",
    "    legend_loc=\"on data\",\n",
    "    # save=\"_MUI_only_neutro_markers_2.png\"\n",
    ")"
   ]
  },
  {
   "cell_type": "code",
   "execution_count": null,
   "id": "c66b2dee-0e76-4a0c-bbe9-450f9297e6bc",
   "metadata": {},
   "outputs": [],
   "source": [
    "# Integrate the new BN clusters to the initial adata obj.\n",
    "ah.pp.integrate_back(\n",
    "    adata_neutro_mui, adata_neutro_mui_blood, variable=\"cell_type_coarse\"\n",
    ")"
   ]
  },
  {
   "cell_type": "code",
   "execution_count": null,
   "id": "1ca459e9-f1a3-4db2-b366-1f21b755f32f",
   "metadata": {},
   "outputs": [],
   "source": []
  },
  {
   "cell_type": "markdown",
   "id": "01e2f73b-9868-44ee-ae1c-b9e635f17673",
   "metadata": {},
   "source": [
    "### 1.4 Clean up and final annotation"
   ]
  },
  {
   "cell_type": "code",
   "execution_count": null,
   "id": "13632ac6-6b0d-4166-874f-1f81e254e8e6",
   "metadata": {},
   "outputs": [],
   "source": [
    "# Plot the leiden and the neutrophil (TAN/BN) annotation\n",
    "sc.pl.umap(\n",
    "    adata_neutro_mui,\n",
    "    color=[\"leiden\", \"cell_type_coarse\"],\n",
    "    layer=\"log1p_norm\",\n",
    "    vmin=0,\n",
    "    vmax=\"p99\",\n",
    "    sort_order=False,\n",
    "    frameon=False,\n",
    "    cmap=\"Reds\",\n",
    "    add_outline=True,\n",
    "    legend_loc=\"on data\",\n",
    "    save=\"_MUI_only_neutro_final_anno.png\",\n",
    ")"
   ]
  },
  {
   "cell_type": "code",
   "execution_count": null,
   "id": "b3a43aec-44ef-41cd-aa33-00e0f1bac1d8",
   "metadata": {},
   "outputs": [],
   "source": [
    "# Cluster 19 seems to belong to BN3 rather to BN4, so we will merge it with BN3\n",
    "adata_neutro_mui_tmp = adata_neutro_mui[adata_neutro_mui.obs[\"leiden\"].isin([\"19\"])]\n",
    "cluster_annot = {\n",
    "    \"BN3\": [19],\n",
    "}\n",
    "cluster_annot = {str(vi): k for k, v in cluster_annot.items() for vi in v}\n",
    "\n",
    "adata_neutro_mui_tmp.obs[\"cell_type_coarse\"] = adata_neutro_mui_tmp.obs[\"leiden\"].map(\n",
    "    cluster_annot\n",
    ")\n",
    "ah.pp.integrate_back(\n",
    "    adata_neutro_mui, adata_neutro_mui_tmp, variable=\"cell_type_coarse\"\n",
    ")"
   ]
  },
  {
   "cell_type": "code",
   "execution_count": null,
   "id": "9482cd3d-b206-407a-80fd-2252321100ba",
   "metadata": {},
   "outputs": [],
   "source": [
    "# Plot the final annotation for sanity check\n",
    "sc.pl.umap(\n",
    "    adata_neutro_mui,\n",
    "    color=[\"leiden\", \"cell_type_coarse\", \"patient_id\"],\n",
    "    layer=\"log1p_norm\",\n",
    "    vmin=0,\n",
    "    vmax=\"p99\",\n",
    "    sort_order=False,\n",
    "    frameon=False,\n",
    "    cmap=\"Reds\",\n",
    "    add_outline=True,\n",
    "    legend_loc=\"on data\",\n",
    "    save=\"_MUI_only_neutro_final_anno.png\",\n",
    ")"
   ]
  },
  {
   "cell_type": "code",
   "execution_count": null,
   "id": "d014dc5e-5edd-4c94-86e0-08c202467515",
   "metadata": {},
   "outputs": [],
   "source": []
  },
  {
   "cell_type": "code",
   "execution_count": null,
   "id": "9978557b-c04f-4a23-8c0a-4480a8b0f11e",
   "metadata": {},
   "outputs": [],
   "source": [
    "# Do not run - save the final adata\n",
    "adata_neutro_mui.write_h5ad(\"../data/MUI_only_neutro_latest.h5ad\")"
   ]
  },
  {
   "cell_type": "markdown",
   "id": "dd801bf0-dfa1-4726-81b0-095dbd3236a1",
   "metadata": {},
   "source": [
    "### 2. Pseudobulk and DE analysis"
   ]
  },
  {
   "cell_type": "code",
   "execution_count": null,
   "id": "30c53aa0-d14c-4b8f-b1ec-1453a875dff4",
   "metadata": {},
   "outputs": [],
   "source": [
    "# Do not run - load in the Neutro dataset (produced above)\n",
    "# adata_neutro_mui = sc.read_h5ad(\n",
    "#     \"../data/MUI_only_neutro_latest.h5ad\"\n",
    "# )"
   ]
  },
  {
   "cell_type": "markdown",
   "id": "dd45cd8c-7300-43e2-910b-088df444623c",
   "metadata": {},
   "source": [
    "### 2.1 Prepare input for DESeq2 analysis - Between Tumor/Blood Neutrophils"
   ]
  },
  {
   "cell_type": "code",
   "execution_count": null,
   "id": "f9e595da-d70c-4cb3-89f7-02880e8ef20e",
   "metadata": {},
   "outputs": [],
   "source": [
    "# Copy adata (for \"safety\"/idiotproofing reasons\n",
    "adata_pseudo = adata_neutro_mui.copy()"
   ]
  },
  {
   "cell_type": "code",
   "execution_count": null,
   "id": "2d6ee0ce-f346-4809-bc14-93cdc6bea086",
   "metadata": {},
   "outputs": [],
   "source": [
    "# merge comlumns - to be used for covariate formula\n",
    "adata_pseudo.obs[\"sample_id\"] = (\n",
    "    adata_neutro_mui.obs[\"dataset\"].astype(str)\n",
    "    + \".\"\n",
    "    + adata_neutro_mui.obs[\"sample_id\"].astype(str)\n",
    ")\n",
    "adata_pseudo.obs[\"patient_id\"] = (\n",
    "    adata_neutro_mui.obs[\"study_id\"].astype(str)\n",
    "    + \".\"\n",
    "    + adata_neutro_mui.obs[\"patient_id\"].astype(str)\n",
    ")"
   ]
  },
  {
   "cell_type": "code",
   "execution_count": null,
   "id": "8a1a3b83-fde9-4f9c-9e66-cc4e48995bfa",
   "metadata": {},
   "outputs": [],
   "source": [
    "# create the \"counts\" layer - needed for the DE analysis\n",
    "adata_pseudo.layers[\"counts\"] = adata_pseudo.X"
   ]
  },
  {
   "cell_type": "code",
   "execution_count": null,
   "id": "89606a6a-fbe1-4327-b06e-83fa5ad718b7",
   "metadata": {},
   "outputs": [],
   "source": [
    "# create the \"cell_type\" layer - needed for psudobulking\n",
    "adata_pseudo.obs[\"cell_type\"] = \"Neutrophil\""
   ]
  },
  {
   "cell_type": "code",
   "execution_count": null,
   "id": "4918e3a7-ff77-4063-9b61-d3c392d2b312",
   "metadata": {},
   "outputs": [],
   "source": [
    "# Keep the protein-coding only genes\n",
    "adata_pseudo = adata_pseudo[:, adata.var[\"Class\"].isin([\"protein_coding\"])].copy()"
   ]
  },
  {
   "cell_type": "code",
   "execution_count": null,
   "id": "12adaa37-11a7-49e1-ae43-d069c273a27e",
   "metadata": {},
   "outputs": [],
   "source": [
    "# Create the variables to be used in the loop below - these should be taken care through Valentin's NextFlow implimentation\n",
    "groups_col = \"cell_type\"\n",
    "ids = \"tumor_blood\"\n",
    "sample_col = \"sample_id\"\n",
    "layer = \"counts\""
   ]
  },
  {
   "cell_type": "code",
   "execution_count": null,
   "id": "3bd64b12-321f-4688-be29-480002fb8373",
   "metadata": {},
   "outputs": [],
   "source": [
    "# Pseudobulk and produce the CSV files - to be used for the DESeq2 analysis\n",
    "pseudobulk = [\n",
    "    (\n",
    "        group,\n",
    "        dc.get_pseudobulk(\n",
    "            adata_pseudo[adata_pseudo.obs[groups_col] == group],\n",
    "            sample_col=sample_col,\n",
    "            groups_col=groups_col,\n",
    "            layer=layer,\n",
    "            mode=\"sum\",\n",
    "            min_prop=0.2,\n",
    "            min_cells=40,\n",
    "            min_counts=500,\n",
    "            min_smpls=3,\n",
    "        ),\n",
    "    )\n",
    "    for group in adata_pseudo.obs[groups_col].unique()\n",
    "]\n",
    "\n",
    "for group, pdata in pseudobulk:\n",
    "    pdata.var_names.name = \"gene_id\"\n",
    "\n",
    "    colData = pdata.obs\n",
    "    colData.index.name = \"sample\"\n",
    "    colData.to_csv(f\"./tables/{ids}_{group}_colData.csv\")\n",
    "\n",
    "    rowData = pdata.var[[\"Geneid\", \"GeneSymbol\", \"Chromosome\", \"Class\", \"Length\"]]\n",
    "    rowData.to_csv(f\"./tables/{ids}_{group}_rowData.csv\")\n",
    "\n",
    "    count_mat = pdata.to_df().T\n",
    "    count_mat.index.name = \"gene_id\"\n",
    "    # count_mat['gene_name'] = rowData.GeneSymbol\n",
    "    count_mat.to_csv(f\"./tables/{ids}_{group}_count_mat.csv\")"
   ]
  },
  {
   "cell_type": "code",
   "execution_count": null,
   "id": "dc6b0799-96c0-4fe6-8277-e49fe83a9471",
   "metadata": {},
   "outputs": [],
   "source": []
  },
  {
   "cell_type": "markdown",
   "id": "5ee3f86f-a229-40e8-a8a9-40504c93075d",
   "metadata": {},
   "source": [
    "#### 2.2 AUC - DE between clusters"
   ]
  },
  {
   "cell_type": "code",
   "execution_count": null,
   "id": "9586a84e-0c6a-40a1-9b44-9066ea068b64",
   "metadata": {},
   "outputs": [],
   "source": [
    "# Create the pseudobulk - per Neutrophil cluster\n",
    "pb_n = sh.pseudobulk.pseudobulk(\n",
    "    adata_pseudo, groupby=[\"patient_id\", \"cell_type_coarse\"]\n",
    ")"
   ]
  },
  {
   "cell_type": "code",
   "execution_count": null,
   "id": "9dc6d4ea-43ba-4634-b15e-25fca463fa3f",
   "metadata": {},
   "outputs": [],
   "source": [
    "# Run the analysis for the TAN/BN clusters\n",
    "column = \"cell_type_coarse\"  # In order to use the correct clusters\n",
    "\n",
    "for ct in pb_n.obs[column].unique():\n",
    "    sh.signatures.fold_change(\n",
    "        pb_n, obs_col=column, positive_class=ct, key_added=f\"{ct}_fc\"\n",
    "    )\n",
    "    sh.signatures.specific_fold_change(\n",
    "        pb_n, obs_col=column, positive_class=ct, key_added=f\"{ct}_sfc\"\n",
    "    )\n",
    "    sh.signatures.roc_auc(\n",
    "        pb_n, obs_col=column, positive_class=ct, key_added=f\"{ct}_auroc\"\n",
    "    )"
   ]
  },
  {
   "cell_type": "code",
   "execution_count": null,
   "id": "b21a61c9-33fd-4a23-9d85-4c93cfc21cd9",
   "metadata": {},
   "outputs": [],
   "source": [
    "markers = {\n",
    "    ct: pb_n.var.loc[\n",
    "        lambda x: (x[f\"{ct}_auroc\"] >= 0.7) & (x[f\"{ct}_fc\"] > 1) & (x[f\"{ct}_sfc\"] > 0)\n",
    "    ]\n",
    "    .sort_values(f\"{ct}_auroc\", ascending=False)\n",
    "    .index.tolist()\n",
    "    for ct in sorted(pb_n.obs[column].unique())\n",
    "}"
   ]
  },
  {
   "cell_type": "code",
   "execution_count": null,
   "id": "76836224-205d-4727-9eef-b1e37bf4d589",
   "metadata": {},
   "outputs": [],
   "source": [
    "# scale and store results in layer\n",
    "pb_n.layers[\"scaled\"] = sc.pp.scale(pb_n, copy=True).X"
   ]
  },
  {
   "cell_type": "code",
   "execution_count": null,
   "id": "c7191481-54e9-4ce7-9452-b90d80eae368",
   "metadata": {},
   "outputs": [],
   "source": [
    "annotation = \"Neutro_sub\"\n",
    "n_genes = [5, 10, 20]\n",
    "# sufixes = [\"\",\".svg\",\".png\"]\n",
    "sufixes = [\".png\"]"
   ]
  },
  {
   "cell_type": "code",
   "execution_count": null,
   "id": "b122f095-7c50-4db3-a81e-6c885cc651b6",
   "metadata": {},
   "outputs": [],
   "source": [
    "# Plot the results\n",
    "for n in n_genes:\n",
    "    for i in sufixes:\n",
    "        sc.pl.matrixplot(\n",
    "            pb_n,\n",
    "            groupby=column,\n",
    "            colorbar_title=\"mean z-score\",\n",
    "            var_names={k: v[:n] for k, v in markers.items()},\n",
    "            layer=\"scaled\",\n",
    "            vmin=-2,\n",
    "            vmax=2,\n",
    "            cmap=\"bwr\",\n",
    "            save=f\"{annotation}_{str(n)}_genes_auc{i}\",\n",
    "            show=False,\n",
    "        )\n",
    "        sh.signatures.plot_markers(\n",
    "            pb_n,\n",
    "            groupby=column,\n",
    "            markers={k: v[:n] for k, v in markers.items()},\n",
    "            layer=\"scaled\",\n",
    "            top=n,\n",
    "            save=f\"sh_{annotation}_{str(n)}_genes_auc{i}\",\n",
    "            show=False,\n",
    "        )\n",
    "        # sh.signatures.plot_metric_strip(\n",
    "        #     pb_n, markers={k: v[:n] for k, v in markers.items()}, top=n\n",
    "        # )"
   ]
  },
  {
   "cell_type": "code",
   "execution_count": null,
   "id": "5f24d60d-2b90-43d1-9a84-183616d7f885",
   "metadata": {},
   "outputs": [],
   "source": [
    "# for n in n_genes:\n",
    "#     sh.signatures.plot_metric_strip(\n",
    "#         pb_n, markers={k: v[:5] for k, v in markers.items()}, top=5\n",
    "#     )"
   ]
  },
  {
   "cell_type": "code",
   "execution_count": null,
   "id": "8a951a53-acc4-46f5-b8cb-cf0b5c81aa48",
   "metadata": {},
   "outputs": [],
   "source": [
    "sh.signatures.plot_metric_strip(\n",
    "    pb_n, markers={k: v[:5] for k, v in markers.items()}, top=5\n",
    ")"
   ]
  },
  {
   "cell_type": "code",
   "execution_count": null,
   "id": "423c4632-bee7-48c2-aead-355d06107d7e",
   "metadata": {},
   "outputs": [],
   "source": [
    "sh.signatures.plot_metric_strip(\n",
    "    pb_n, markers={k: v[:10] for k, v in markers.items()}, top=10\n",
    ")"
   ]
  },
  {
   "cell_type": "code",
   "execution_count": null,
   "id": "ca5de652-66c9-4275-9fd1-30edd2e448c2",
   "metadata": {},
   "outputs": [],
   "source": [
    "sh.signatures.plot_metric_strip(\n",
    "    pb_n, markers={k: v[:20] for k, v in markers.items()}, top=20\n",
    ")"
   ]
  },
  {
   "cell_type": "code",
   "execution_count": null,
   "id": "23485308-a4d3-4458-8b4c-803759503bb7",
   "metadata": {},
   "outputs": [],
   "source": []
  }
 ],
 "metadata": {
  "jupytext": {
   "formats": "ipynb,py:percent"
  },
  "kernelspec": {
   "display_name": "crc_atlas",
   "language": "python",
   "name": "crc_atlas"
  },
  "language_info": {
   "codemirror_mode": {
    "name": "ipython",
    "version": 3
   },
   "file_extension": ".py",
   "mimetype": "text/x-python",
   "name": "python",
   "nbconvert_exporter": "python",
   "pygments_lexer": "ipython3",
   "version": "3.11.5"
  }
 },
 "nbformat": 4,
 "nbformat_minor": 5
}
